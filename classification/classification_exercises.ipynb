{
 "cells": [
  {
   "cell_type": "code",
   "execution_count": 3,
   "metadata": {},
   "outputs": [],
   "source": [
    "import dbtools as db\n",
    "import pandas as pd\n",
    "\n",
    "\n",
    "\n",
    "\n",
    "\n",
    "def get_titanic_data(command = 'SELECT * FROM passengers', database = 'titanic_db'):\n",
    "    return db.get_db_url(comm = command, database = database)\n",
    "\n",
    "\n",
    "def get_iris_data(command = \"\"\"SELECT measurement_id,  sepal_length,  sepal_width\n",
    ",petal_length, petal_width,  species.species_name FROM measurements\n",
    "JOIN species USING(species_id);\"\"\", database = 'iris_db'):\n",
    "    return db.get_db_url(comm = command, database = database)\n",
    "\n",
    "\n",
    "\n",
    "df_iris = pd.DataFrame(db.get_db_url('SELECT * FROM measurements', \\\n",
    "                                     database = 'iris_db'))\n"
   ]
  },
  {
   "cell_type": "code",
   "execution_count": null,
   "metadata": {},
   "outputs": [],
   "source": [
    "df_excel = pd.DataFrame(pd.read_excel('mytable_customer_details.xlsx'))\n",
    "df_excel_sample = df_excel.head(100)\n",
    "print(len(df_excel))\n",
    "print(df_excel.head(5))\n",
    "print(df_excel.select_dtypes(include=['object']))\n",
    "\n"
   ]
  },
  {
   "cell_type": "code",
   "execution_count": null,
   "metadata": {},
   "outputs": [],
   "source": [
    "\n",
    "df_google = pd.DataFrame(pd.read_excel('train.xlsx'))\n",
    "print(df_google.head(3))\n",
    "print(df_google.shape())\n",
    "print(df_google.columns)\n",
    "print(df_google.info())\n",
    "print(df_google.describe())\n",
    "print(df_google.unique())\n",
    "print('<<<<<>>>>>')\n",
    "\n",
    "\n",
    "\n"
   ]
  },
  {
   "cell_type": "code",
   "execution_count": null,
   "metadata": {},
   "outputs": [],
   "source": [
    "print(df_iris.head(3))\n",
    "print(df_iris.shape)\n",
    "print(df_iris.columns)\n",
    "print(df_iris.info())\n",
    "print(df_iris.describe())\n",
    "ints = df_iris.select_dtypes(include=['int64', 'float64'])\n",
    "for i in ints:\n",
    "    print(i)\n",
    "    print(str(df_iris[i].max() - df_iris[i].min()))\n",
    "\n",
    "\n",
    "\n"
   ]
  },
  {
   "cell_type": "code",
   "execution_count": null,
   "metadata": {},
   "outputs": [],
   "source": []
  }
 ],
 "metadata": {
  "kernelspec": {
   "display_name": "Python 3",
   "language": "python",
   "name": "python3"
  },
  "language_info": {
   "codemirror_mode": {
    "name": "ipython",
    "version": 3
   },
   "file_extension": ".py",
   "mimetype": "text/x-python",
   "name": "python",
   "nbconvert_exporter": "python",
   "pygments_lexer": "ipython3",
   "version": "3.7.3"
  }
 },
 "nbformat": 4,
 "nbformat_minor": 2
}
