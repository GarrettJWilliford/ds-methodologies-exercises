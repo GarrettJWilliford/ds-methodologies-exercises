{
 "cells": [
  {
   "cell_type": "code",
   "execution_count": 67,
   "metadata": {},
   "outputs": [],
   "source": [
    "import pyspark\n",
    "import pandas as pd\n",
    "import numpy as np\n",
    "from pyspark.sql import SparkSession\n",
    "from pyspark.sql.functions import *\n",
    "import pyspark.sql.functions as F"
   ]
  },
  {
   "cell_type": "code",
   "execution_count": 68,
   "metadata": {},
   "outputs": [],
   "source": [
    "spark = SparkSession.builder.getOrCreate()"
   ]
  },
  {
   "cell_type": "code",
   "execution_count": 69,
   "metadata": {},
   "outputs": [],
   "source": [
    "case = spark.read.csv(r'/Users/garrettwilliford/Downloads/case.csv', sep=\",\", header=True, inferSchema=True)\n",
    "dept = spark.read.csv(r'/Users/garrettwilliford/Downloads/dept.csv', sep=\",\", header=True, inferSchema=True)\n",
    "source = spark.read.csv(r'/Users/garrettwilliford/Downloads/source.csv', sep=\",\", header=True, inferSchema=True)"
   ]
  },
  {
   "cell_type": "code",
   "execution_count": 71,
   "metadata": {},
   "outputs": [],
   "source": [
    "case.write.json('/Users/garrettwilliford/Desktop/codeup-data-science/ds-methodologies-exercises/spark/case_json')\n",
    "dept.write.json('/Users/garrettwilliford/Desktop/codeup-data-science/ds-methodologies-exercises/spark/dept_json')\n",
    "source.write.json('/Users/garrettwilliford/Desktop/codeup-data-science/ds-methodologies-exercises/spark/source_json')"
   ]
  },
  {
   "cell_type": "code",
   "execution_count": 72,
   "metadata": {},
   "outputs": [
    {
     "name": "stdout",
     "output_type": "stream",
     "text": [
      "root\n",
      " |-- case_id: integer (nullable = true)\n",
      " |-- case_opened_date: string (nullable = true)\n",
      " |-- case_closed_date: string (nullable = true)\n",
      " |-- SLA_due_date: string (nullable = true)\n",
      " |-- case_late: string (nullable = true)\n",
      " |-- num_days_late: double (nullable = true)\n",
      " |-- case_closed: string (nullable = true)\n",
      " |-- dept_division: string (nullable = true)\n",
      " |-- service_request_type: string (nullable = true)\n",
      " |-- SLA_days: double (nullable = true)\n",
      " |-- case_status: string (nullable = true)\n",
      " |-- source_id: string (nullable = true)\n",
      " |-- request_address: string (nullable = true)\n",
      " |-- council_district: integer (nullable = true)\n",
      "\n"
     ]
    }
   ],
   "source": [
    "case.printSchema()"
   ]
  },
  {
   "cell_type": "code",
   "execution_count": 18,
   "metadata": {},
   "outputs": [],
   "source": [
    "#How old is the latest (in terms of days past SLA) currently open issue? How long has the oldest (in terms of days since opened) currently opened issue been open?\n",
    "#How many Stray Animal cases are there?\n",
    "#How many service requests that are assigned to the Field Operations department (dept_division) are not classified as \"Officer Standby\" request type (service_request_type)?\n",
    "#Convert the council_district column to a string column.\n",
    "#Extract the year from the case_closed_date column.\n",
    "#Convert num_days_late from days to hours in new columns num_hours_late.\n",
    "#Join the case data with the source and department data.\n",
    "#Are there any cases that do not have a request source?\n",
    "#What are the top 10 service request types in terms of number of requests?\n",
    "#What are the top 10 service request types in terms of average days late?\n",
    "#Does number of days late depend on department?\n",
    "#How do number of days late depend on department and request type?"
   ]
  },
  {
   "cell_type": "code",
   "execution_count": 73,
   "metadata": {},
   "outputs": [],
   "source": [
    "case_not_closed = case.where(case.case_status == 'Open')"
   ]
  },
  {
   "cell_type": "code",
   "execution_count": 74,
   "metadata": {},
   "outputs": [],
   "source": [
    "is_animal = case.where(case.service_request_type == 'Stray Animal')"
   ]
  },
  {
   "cell_type": "code",
   "execution_count": 75,
   "metadata": {},
   "outputs": [
    {
     "data": {
      "text/plain": [
       "26760"
      ]
     },
     "execution_count": 75,
     "metadata": {},
     "output_type": "execute_result"
    }
   ],
   "source": [
    "#Number of stray animal cases\n",
    "is_animal.count()"
   ]
  },
  {
   "cell_type": "code",
   "execution_count": 76,
   "metadata": {},
   "outputs": [],
   "source": [
    "field_operations = case.where((case.dept_division == 'Field Operations') & (case.service_request_type != 'Officer Standby'))"
   ]
  },
  {
   "cell_type": "code",
   "execution_count": 77,
   "metadata": {},
   "outputs": [
    {
     "data": {
      "text/plain": [
       "113902"
      ]
     },
     "execution_count": 77,
     "metadata": {},
     "output_type": "execute_result"
    }
   ],
   "source": [
    "#Number of field_operations cases not classified as Officer Standby\n",
    "field_operations.count()"
   ]
  },
  {
   "cell_type": "code",
   "execution_count": 118,
   "metadata": {},
   "outputs": [
    {
     "name": "stdout",
     "output_type": "stream",
     "text": [
      "+--------------------+\n",
      "|(num_days_late * 24)|\n",
      "+--------------------+\n",
      "|      -23964.2102784|\n",
      "| -48.302500007999996|\n",
      "|       -72.536111112|\n",
      "|       -360.27555552|\n",
      "|   8.931944448000001|\n",
      "+--------------------+\n",
      "only showing top 5 rows\n",
      "\n"
     ]
    }
   ],
   "source": [
    "case.select((case.num_days_late * 24)).show(5)\n"
   ]
  },
  {
   "cell_type": "code",
   "execution_count": 119,
   "metadata": {},
   "outputs": [
    {
     "name": "stdout",
     "output_type": "stream",
     "text": [
      "-RECORD 0--------------------------------------\n",
      " dept_division          | Field Operations     \n",
      " source_id              | svcCRMLS             \n",
      " case_id                | 1014127332           \n",
      " case_opened_date       | 1/1/18 0:42          \n",
      " case_closed_date       | 1/1/18 12:29         \n",
      " SLA_due_date           | 9/26/20 0:42         \n",
      " case_late              | NO                   \n",
      " num_days_late          | -998.5087616000001   \n",
      " case_closed            | YES                  \n",
      " service_request_type   | Stray Animal         \n",
      " SLA_days               | 999.0                \n",
      " case_status            | Closed               \n",
      " request_address        | 2315  EL PASO ST,... \n",
      " council_district       | 5                    \n",
      " source_username        | svcCRMLS             \n",
      " dept_name              | Animal Care Services \n",
      " standardized_dept_name | Animal Care Services \n",
      " dept_subject_to_SLA    | YES                  \n",
      "-RECORD 1--------------------------------------\n",
      " dept_division          | Storm Water          \n",
      " source_id              | svcCRMSS             \n",
      " case_id                | 1014127333           \n",
      " case_opened_date       | 1/1/18 0:46          \n",
      " case_closed_date       | 1/3/18 8:11          \n",
      " SLA_due_date           | 1/5/18 8:30          \n",
      " case_late              | NO                   \n",
      " num_days_late          | -2.0126041669999997  \n",
      " case_closed            | YES                  \n",
      " service_request_type   | Removal Of Obstru... \n",
      " SLA_days               | 4.322222222          \n",
      " case_status            | Closed               \n",
      " request_address        | 2215  GOLIAD RD, ... \n",
      " council_district       | 3                    \n",
      " source_username        | svcCRMSS             \n",
      " dept_name              | Trans & Cap Impro... \n",
      " standardized_dept_name | Trans & Cap Impro... \n",
      " dept_subject_to_SLA    | YES                  \n",
      "-RECORD 2--------------------------------------\n",
      " dept_division          | Storm Water          \n",
      " source_id              | svcCRMSS             \n",
      " case_id                | 1014127334           \n",
      " case_opened_date       | 1/1/18 0:48          \n",
      " case_closed_date       | 1/2/18 7:57          \n",
      " SLA_due_date           | 1/5/18 8:30          \n",
      " case_late              | NO                   \n",
      " num_days_late          | -3.022337963         \n",
      " case_closed            | YES                  \n",
      " service_request_type   | Removal Of Obstru... \n",
      " SLA_days               | 4.320729167          \n",
      " case_status            | Closed               \n",
      " request_address        | 102  PALFREY ST W... \n",
      " council_district       | 3                    \n",
      " source_username        | svcCRMSS             \n",
      " dept_name              | Trans & Cap Impro... \n",
      " standardized_dept_name | Trans & Cap Impro... \n",
      " dept_subject_to_SLA    | YES                  \n",
      "-RECORD 3--------------------------------------\n",
      " dept_division          | Code Enforcement     \n",
      " source_id              | svcCRMSS             \n",
      " case_id                | 1014127335           \n",
      " case_opened_date       | 1/1/18 1:29          \n",
      " case_closed_date       | 1/2/18 8:13          \n",
      " SLA_due_date           | 1/17/18 8:30         \n",
      " case_late              | NO                   \n",
      " num_days_late          | -15.01148148         \n",
      " case_closed            | YES                  \n",
      " service_request_type   | Front Or Side Yar... \n",
      " SLA_days               | 16.29188657          \n",
      " case_status            | Closed               \n",
      " request_address        | 114  LA GARDE ST,... \n",
      " council_district       | 3                    \n",
      " source_username        | svcCRMSS             \n",
      " dept_name              | Code Enforcement ... \n",
      " standardized_dept_name | DSD/Code Enforcement \n",
      " dept_subject_to_SLA    | YES                  \n",
      "-RECORD 4--------------------------------------\n",
      " dept_division          | Field Operations     \n",
      " source_id              | svcCRMSS             \n",
      " case_id                | 1014127336           \n",
      " case_opened_date       | 1/1/18 1:34          \n",
      " case_closed_date       | 1/1/18 13:29         \n",
      " SLA_due_date           | 1/1/18 4:34          \n",
      " case_late              | YES                  \n",
      " num_days_late          | 0.37216435200000003  \n",
      " case_closed            | YES                  \n",
      " service_request_type   | Animal Cruelty(Cr... \n",
      " SLA_days               | 0.125                \n",
      " case_status            | Closed               \n",
      " request_address        | 734  CLEARVIEW DR... \n",
      " council_district       | 7                    \n",
      " source_username        | svcCRMSS             \n",
      " dept_name              | Animal Care Services \n",
      " standardized_dept_name | Animal Care Services \n",
      " dept_subject_to_SLA    | YES                  \n",
      "-RECORD 5--------------------------------------\n",
      " dept_division          | Signals              \n",
      " source_id              | svcCRMSS             \n",
      " case_id                | 1014127337           \n",
      " case_opened_date       | 1/1/18 6:28          \n",
      " case_closed_date       | 1/1/18 14:38         \n",
      " SLA_due_date           | 1/31/18 8:30         \n",
      " case_late              | NO                   \n",
      " num_days_late          | -29.74398148         \n",
      " case_closed            | YES                  \n",
      " service_request_type   | Traffic Signal Op... \n",
      " SLA_days               | 30.08446759          \n",
      " case_status            | Closed               \n",
      " request_address        | BANDERA RD and BR... \n",
      " council_district       | 7                    \n",
      " source_username        | svcCRMSS             \n",
      " dept_name              | Trans & Cap Impro... \n",
      " standardized_dept_name | Trans & Cap Impro... \n",
      " dept_subject_to_SLA    | YES                  \n",
      "-RECORD 6--------------------------------------\n",
      " dept_division          | Code Enforcement     \n",
      " source_id              | svcCRMSS             \n",
      " case_id                | 1014127338           \n",
      " case_opened_date       | 1/1/18 6:57          \n",
      " case_closed_date       | 1/2/18 15:32         \n",
      " SLA_due_date           | 1/17/18 8:30         \n",
      " case_late              | NO                   \n",
      " num_days_late          | -14.70673611         \n",
      " case_closed            | YES                  \n",
      " service_request_type   | Front Or Side Yar... \n",
      " SLA_days               | 16.06429398          \n",
      " case_status            | Closed               \n",
      " request_address        | 10133  FIGARO CAN... \n",
      " council_district       | 4                    \n",
      " source_username        | svcCRMSS             \n",
      " dept_name              | Code Enforcement ... \n",
      " standardized_dept_name | DSD/Code Enforcement \n",
      " dept_subject_to_SLA    | YES                  \n",
      "-RECORD 7--------------------------------------\n",
      " dept_division          | Code Enforcement     \n",
      " source_id              | svcCRMSS             \n",
      " case_id                | 1014127339           \n",
      " case_opened_date       | 1/1/18 6:58          \n",
      " case_closed_date       | 1/2/18 15:32         \n",
      " SLA_due_date           | 1/17/18 8:30         \n",
      " case_late              | NO                   \n",
      " num_days_late          | -14.70662037         \n",
      " case_closed            | YES                  \n",
      " service_request_type   | Front Or Side Yar... \n",
      " SLA_days               | 16.063796300000003   \n",
      " case_status            | Closed               \n",
      " request_address        | 10133  FIGARO CAN... \n",
      " council_district       | 4                    \n",
      " source_username        | svcCRMSS             \n",
      " dept_name              | Code Enforcement ... \n",
      " standardized_dept_name | DSD/Code Enforcement \n",
      " dept_subject_to_SLA    | YES                  \n",
      "-RECORD 8--------------------------------------\n",
      " dept_division          | Code Enforcement     \n",
      " source_id              | svcCRMSS             \n",
      " case_id                | 1014127340           \n",
      " case_opened_date       | 1/1/18 6:58          \n",
      " case_closed_date       | 1/2/18 15:32         \n",
      " SLA_due_date           | 1/17/18 8:30         \n",
      " case_late              | NO                   \n",
      " num_days_late          | -14.70662037         \n",
      " case_closed            | YES                  \n",
      " service_request_type   | Right Of Way/Side... \n",
      " SLA_days               | 16.06333333          \n",
      " case_status            | Closed               \n",
      " request_address        | 10133  FIGARO CAN... \n",
      " council_district       | 4                    \n",
      " source_username        | svcCRMSS             \n",
      " dept_name              | Code Enforcement ... \n",
      " standardized_dept_name | DSD/Code Enforcement \n",
      " dept_subject_to_SLA    | YES                  \n",
      "-RECORD 9--------------------------------------\n",
      " dept_division          | Code Enforcement     \n",
      " source_id              | svcCRMSS             \n",
      " case_id                | 1014127341           \n",
      " case_opened_date       | 1/1/18 6:59          \n",
      " case_closed_date       | 1/2/18 15:32         \n",
      " SLA_due_date           | 1/17/18 8:30         \n",
      " case_late              | NO                   \n",
      " num_days_late          | -14.70649306         \n",
      " case_closed            | YES                  \n",
      " service_request_type   | Front Or Side Yar... \n",
      " SLA_days               | 16.0628588           \n",
      " case_status            | Closed               \n",
      " request_address        | 10133  FIGARO CAN... \n",
      " council_district       | 4                    \n",
      " source_username        | svcCRMSS             \n",
      " dept_name              | Code Enforcement ... \n",
      " standardized_dept_name | DSD/Code Enforcement \n",
      " dept_subject_to_SLA    | YES                  \n",
      "-RECORD 10-------------------------------------\n",
      " dept_division          | Code Enforcement     \n",
      " source_id              | svcCRMSS             \n",
      " case_id                | 1014127342           \n",
      " case_opened_date       | 1/1/18 7:00          \n",
      " case_closed_date       | 1/2/18 15:32         \n",
      " SLA_due_date           | 1/17/18 8:30         \n",
      " case_late              | NO                   \n",
      " num_days_late          | -14.70649306         \n",
      " case_closed            | YES                  \n",
      " service_request_type   | Front Or Side Yar... \n",
      " SLA_days               | 16.06237269          \n",
      " case_status            | Closed               \n",
      " request_address        | 10133  FIGARO CAN... \n",
      " council_district       | 4                    \n",
      " source_username        | svcCRMSS             \n",
      " dept_name              | Code Enforcement ... \n",
      " standardized_dept_name | DSD/Code Enforcement \n",
      " dept_subject_to_SLA    | YES                  \n",
      "-RECORD 11-------------------------------------\n",
      " dept_division          | Code Enforcement     \n",
      " source_id              | svcCRMSS             \n",
      " case_id                | 1014127343           \n",
      " case_opened_date       | 1/1/18 7:02          \n",
      " case_closed_date       | 1/2/18 15:32         \n",
      " SLA_due_date           | 1/17/18 8:30         \n",
      " case_late              | NO                   \n",
      " num_days_late          | -14.70636574         \n",
      " case_closed            | YES                  \n",
      " service_request_type   | Right Of Way/Side... \n",
      " SLA_days               | 16.06104167          \n",
      " case_status            | Closed               \n",
      " request_address        | 10133  FIGARO CAN... \n",
      " council_district       | 4                    \n",
      " source_username        | svcCRMSS             \n",
      " dept_name              | Code Enforcement ... \n",
      " standardized_dept_name | DSD/Code Enforcement \n",
      " dept_subject_to_SLA    | YES                  \n",
      "-RECORD 12-------------------------------------\n",
      " dept_division          | Code Enforcement     \n",
      " source_id              | svcCRMSS             \n",
      " case_id                | 1014127344           \n",
      " case_opened_date       | 1/1/18 7:02          \n",
      " case_closed_date       | 1/2/18 15:33         \n",
      " SLA_due_date           | 1/17/18 8:30         \n",
      " case_late              | NO                   \n",
      " num_days_late          | -14.70625            \n",
      " case_closed            | YES                  \n",
      " service_request_type   | Front Or Side Yar... \n",
      " SLA_days               | 16.06059028          \n",
      " case_status            | Closed               \n",
      " request_address        | 10129  BOXING PAS... \n",
      " council_district       | 4                    \n",
      " source_username        | svcCRMSS             \n",
      " dept_name              | Code Enforcement ... \n",
      " standardized_dept_name | DSD/Code Enforcement \n",
      " dept_subject_to_SLA    | YES                  \n",
      "-RECORD 13-------------------------------------\n",
      " dept_division          | Code Enforcement     \n",
      " source_id              | svcCRMSS             \n",
      " case_id                | 1014127345           \n",
      " case_opened_date       | 1/1/18 7:03          \n",
      " case_closed_date       | 1/2/18 15:32         \n",
      " SLA_due_date           | 1/17/18 8:30         \n",
      " case_late              | NO                   \n",
      " num_days_late          | -14.70636574         \n",
      " case_closed            | YES                  \n",
      " service_request_type   | Front Or Side Yar... \n",
      " SLA_days               | 16.06011574          \n",
      " case_status            | Closed               \n",
      " request_address        | 10129  BOXING PAS... \n",
      " council_district       | 4                    \n",
      " source_username        | svcCRMSS             \n",
      " dept_name              | Code Enforcement ... \n",
      " standardized_dept_name | DSD/Code Enforcement \n",
      " dept_subject_to_SLA    | YES                  \n",
      "-RECORD 14-------------------------------------\n",
      " dept_division          | Code Enforcement     \n",
      " source_id              | svcCRMSS             \n",
      " case_id                | 1014127346           \n",
      " case_opened_date       | 1/1/18 7:04          \n",
      " case_closed_date       | 1/2/18 15:33         \n",
      " SLA_due_date           | 1/17/18 8:30         \n",
      " case_late              | NO                   \n",
      " num_days_late          | -14.70623843         \n",
      " case_closed            | YES                  \n",
      " service_request_type   | Right Of Way/Side... \n",
      " SLA_days               | 16.05953704          \n",
      " case_status            | Closed               \n",
      " request_address        | 10129  BOXING PAS... \n",
      " council_district       | 4                    \n",
      " source_username        | svcCRMSS             \n",
      " dept_name              | Code Enforcement ... \n",
      " standardized_dept_name | DSD/Code Enforcement \n",
      " dept_subject_to_SLA    | YES                  \n",
      "-RECORD 15-------------------------------------\n",
      " dept_division          | Code Enforcement     \n",
      " source_id              | svcCRMSS             \n",
      " case_id                | 1014127347           \n",
      " case_opened_date       | 1/1/18 7:04          \n",
      " case_closed_date       | 1/2/18 15:33         \n",
      " SLA_due_date           | 1/17/18 8:30         \n",
      " case_late              | NO                   \n",
      " num_days_late          | -14.705891199999998  \n",
      " case_closed            | YES                  \n",
      " service_request_type   | Front Or Side Yar... \n",
      " SLA_days               | 16.05907407          \n",
      " case_status            | Closed               \n",
      " request_address        | 834  BARREL POINT... \n",
      " council_district       | 4                    \n",
      " source_username        | svcCRMSS             \n",
      " dept_name              | Code Enforcement ... \n",
      " standardized_dept_name | DSD/Code Enforcement \n",
      " dept_subject_to_SLA    | YES                  \n",
      "-RECORD 16-------------------------------------\n",
      " dept_division          | Code Enforcement     \n",
      " source_id              | svcCRMSS             \n",
      " case_id                | 1014127348           \n",
      " case_opened_date       | 1/1/18 7:05          \n",
      " case_closed_date       | 1/2/18 15:33         \n",
      " SLA_due_date           | 1/17/18 8:30         \n",
      " case_late              | NO                   \n",
      " num_days_late          | -14.70600694         \n",
      " case_closed            | YES                  \n",
      " service_request_type   | Front Or Side Yar... \n",
      " SLA_days               | 16.05864583          \n",
      " case_status            | Closed               \n",
      " request_address        | 834  BARREL POINT... \n",
      " council_district       | 4                    \n",
      " source_username        | svcCRMSS             \n",
      " dept_name              | Code Enforcement ... \n",
      " standardized_dept_name | DSD/Code Enforcement \n",
      " dept_subject_to_SLA    | YES                  \n",
      "-RECORD 17-------------------------------------\n",
      " dept_division          | Code Enforcement     \n",
      " source_id              | svcCRMSS             \n",
      " case_id                | 1014127349           \n",
      " case_opened_date       | 1/1/18 7:06          \n",
      " case_closed_date       | 1/2/18 15:33         \n",
      " SLA_due_date           | 1/17/18 8:30         \n",
      " case_late              | NO                   \n",
      " num_days_late          | -14.70576389         \n",
      " case_closed            | YES                  \n",
      " service_request_type   | Right Of Way/Side... \n",
      " SLA_days               | 16.05819444          \n",
      " case_status            | Closed               \n",
      " request_address        | 834  BARREL POINT... \n",
      " council_district       | 4                    \n",
      " source_username        | svcCRMSS             \n",
      " dept_name              | Code Enforcement ... \n",
      " standardized_dept_name | DSD/Code Enforcement \n",
      " dept_subject_to_SLA    | YES                  \n",
      "-RECORD 18-------------------------------------\n",
      " dept_division          | Code Enforcement     \n",
      " source_id              | svcCRMSS             \n",
      " case_id                | 1014127350           \n",
      " case_opened_date       | 1/1/18 7:06          \n",
      " case_closed_date       | 1/2/18 15:33         \n",
      " SLA_due_date           | 1/17/18 8:30         \n",
      " case_late              | NO                   \n",
      " num_days_late          | -14.70576389         \n",
      " case_closed            | YES                  \n",
      " service_request_type   | Front Or Side Yar... \n",
      " SLA_days               | 16.05775463          \n",
      " case_status            | Closed               \n",
      " request_address        | 834  BARREL POINT... \n",
      " council_district       | 4                    \n",
      " source_username        | svcCRMSS             \n",
      " dept_name              | Code Enforcement ... \n",
      " standardized_dept_name | DSD/Code Enforcement \n",
      " dept_subject_to_SLA    | YES                  \n",
      "-RECORD 19-------------------------------------\n",
      " dept_division          | Code Enforcement     \n",
      " source_id              | svcCRMSS             \n",
      " case_id                | 1014127351           \n",
      " case_opened_date       | 1/1/18 7:07          \n",
      " case_closed_date       | 1/2/18 15:33         \n",
      " SLA_due_date           | 1/17/18 8:30         \n",
      " case_late              | NO                   \n",
      " num_days_late          | -14.70564815         \n",
      " case_closed            | YES                  \n",
      " service_request_type   | Front Or Side Yar... \n",
      " SLA_days               | 16.05733796          \n",
      " case_status            | Closed               \n",
      " request_address        | 834  BARREL POINT... \n",
      " council_district       | 4                    \n",
      " source_username        | svcCRMSS             \n",
      " dept_name              | Code Enforcement ... \n",
      " standardized_dept_name | DSD/Code Enforcement \n",
      " dept_subject_to_SLA    | YES                  \n",
      "only showing top 20 rows\n",
      "\n"
     ]
    }
   ],
   "source": [
    "#vertical is pretty cool, i very much enjoy how the output does not look like garbage\n",
    "data = case.join(source, on = 'source_id').join(dept, on = 'dept_division')\n",
    "data.select('*').show(vertical = True)"
   ]
  },
  {
   "cell_type": "code",
   "execution_count": 94,
   "metadata": {},
   "outputs": [
    {
     "data": {
      "text/plain": [
       "Column<b'9/9/17 9:56'>"
      ]
     },
     "execution_count": 94,
     "metadata": {},
     "output_type": "execute_result"
    }
   ],
   "source": []
  },
  {
   "cell_type": "code",
   "execution_count": 122,
   "metadata": {},
   "outputs": [
    {
     "name": "stdout",
     "output_type": "stream",
     "text": [
      "+--------------------+\n",
      "|(num_days_late * 24)|\n",
      "+--------------------+\n",
      "|      -23964.2102784|\n",
      "| -48.302500007999996|\n",
      "|       -72.536111112|\n",
      "|       -360.27555552|\n",
      "|   8.931944448000001|\n",
      "|  -713.8555555199999|\n",
      "|       -352.96166664|\n",
      "|       -352.95888888|\n",
      "|       -352.95888888|\n",
      "|       -352.95583344|\n",
      "|       -352.95583344|\n",
      "|       -352.95277776|\n",
      "| -352.95000000000005|\n",
      "|       -352.95277776|\n",
      "| -352.94972232000003|\n",
      "| -352.94138879999997|\n",
      "|       -352.94416656|\n",
      "|       -352.93833336|\n",
      "|       -352.93833336|\n",
      "|        -352.9355556|\n",
      "+--------------------+\n",
      "only showing top 20 rows\n",
      "\n"
     ]
    }
   ],
   "source": [
    "case.select((case.num_days_late * 24)).show()"
   ]
  },
  {
   "cell_type": "code",
   "execution_count": 123,
   "metadata": {},
   "outputs": [
    {
     "name": "stdout",
     "output_type": "stream",
     "text": [
      "-RECORD 0--------------------------------------\n",
      " dept_division          | Field Operations     \n",
      " source_id              | svcCRMLS             \n",
      " case_id                | 1014127332           \n",
      " case_opened_date       | 1/1/18 0:42          \n",
      " case_closed_date       | 1/1/18 12:29         \n",
      " SLA_due_date           | 9/26/20 0:42         \n",
      " case_late              | NO                   \n",
      " num_days_late          | -998.5087616000001   \n",
      " case_closed            | YES                  \n",
      " service_request_type   | Stray Animal         \n",
      " SLA_days               | 999.0                \n",
      " case_status            | Closed               \n",
      " request_address        | 2315  EL PASO ST,... \n",
      " council_district       | 5                    \n",
      " source_username        | svcCRMLS             \n",
      " dept_name              | Animal Care Services \n",
      " standardized_dept_name | Animal Care Services \n",
      " dept_subject_to_SLA    | YES                  \n",
      "only showing top 1 row\n",
      "\n"
     ]
    }
   ],
   "source": [
    "dept_data = case.join(source, on = 'source_id', how = 'inner').join(dept, on = 'dept_division')\n",
    "dept_data.select('*').show(1, vertical = True)"
   ]
  },
  {
   "cell_type": "code",
   "execution_count": 138,
   "metadata": {},
   "outputs": [
    {
     "name": "stdout",
     "output_type": "stream",
     "text": [
      "(0 rows)\n",
      "\n"
     ]
    }
   ],
   "source": [
    "#df.where(df.source_id == '').show()\n",
    "time_over = F.when(F.isnull('case_closed_date'), F.datediff(max_date, case.SLA_due_date))\\\n",
    "                .otherwise(F.datediff(case.case_closed_date  , case.SLA_due_date)).alias('overdue_time')\n",
    "case.select('*', time_over).where(time_over == F.lit(case.select(F.max(time_over)).head()[0])).show(1, vertical = True)\n"
   ]
  },
  {
   "cell_type": "code",
   "execution_count": 132,
   "metadata": {},
   "outputs": [
    {
     "name": "stdout",
     "output_type": "stream",
     "text": [
      "+--------------------+-----+\n",
      "|service_request_type|count|\n",
      "+--------------------+-----+\n",
      "|           No Pickup|86855|\n",
      "|Overgrown Yard/Trash|65895|\n",
      "|        Bandit Signs|32910|\n",
      "|        Damaged Cart|30338|\n",
      "|Front Or Side Yar...|28794|\n",
      "|        Stray Animal|26760|\n",
      "|Aggressive Animal...|24882|\n",
      "|Cart Exchange Req...|22024|\n",
      "|Junk Vehicle On P...|21473|\n",
      "|     Pot Hole Repair|20616|\n",
      "+--------------------+-----+\n",
      "only showing top 10 rows\n",
      "\n"
     ]
    }
   ],
   "source": [
    "case.groupBy('service_request_type').count().sort(F.desc('count')).show(10)"
   ]
  },
  {
   "cell_type": "code",
   "execution_count": 133,
   "metadata": {},
   "outputs": [
    {
     "name": "stdout",
     "output_type": "stream",
     "text": [
      "+--------------------+--------------+\n",
      "|service_request_type|mean_days_late|\n",
      "+--------------------+--------------+\n",
      "|Minimum Housing-O...|          null|\n",
      "|        Tree Removal|          null|\n",
      "| Service Information|          null|\n",
      "|    Sign Maintenance|          null|\n",
      "|Park Building Mai...|          null|\n",
      "|Brush Property Da...|          null|\n",
      "|Graffiti: Private...|          null|\n",
      "|Guardrail- New Re...|          null|\n",
      "|Markings Installa...|          null|\n",
      "|Traffic Sign Graf...|          null|\n",
      "+--------------------+--------------+\n",
      "only showing top 10 rows\n",
      "\n"
     ]
    }
   ],
   "source": [
    "case.groupBy('service_request_type').agg(F.mean(time_over).alias('mean_days_late')).sort(F.desc('mean_days_late')).show(10)"
   ]
  },
  {
   "cell_type": "code",
   "execution_count": 134,
   "metadata": {},
   "outputs": [
    {
     "name": "stdout",
     "output_type": "stream",
     "text": [
      "+--------------------+-------------+\n",
      "|       dept_division|avg_days_late|\n",
      "+--------------------+-------------+\n",
      "|    Field Operations|         null|\n",
      "|       Miscellaneous|         null|\n",
      "|         Solid Waste|         null|\n",
      "|          District 7|         null|\n",
      "|             Streets|         null|\n",
      "|    Waste Collection|         null|\n",
      "|Code Enforcement ...|         null|\n",
      "|         District 10|         null|\n",
      "|   Dangerous Premise|         null|\n",
      "|     311 Call Center|         null|\n",
      "|              Vector|         null|\n",
      "|Traffic Engineeri...|         null|\n",
      "|Code Enforcement ...|         null|\n",
      "|        Reservations|         null|\n",
      "|Engineering Division|         null|\n",
      "|             Signals|         null|\n",
      "|         Storm Water|         null|\n",
      "|Director's Office...|         null|\n",
      "|          District 2|         null|\n",
      "|               Shops|         null|\n",
      "+--------------------+-------------+\n",
      "only showing top 20 rows\n",
      "\n"
     ]
    }
   ],
   "source": [
    "case.groupBy('dept_division').agg(F.mean(time_over).alias('avg_days_late')).sort(F.desc('avg_days_late')).show()"
   ]
  },
  {
   "cell_type": "code",
   "execution_count": 136,
   "metadata": {},
   "outputs": [
    {
     "name": "stdout",
     "output_type": "stream",
     "text": [
      "+--------------------+--------------------+-------------+\n",
      "|       dept_division|service_request_type|avg_days_late|\n",
      "+--------------------+--------------------+-------------+\n",
      "|    Code Enforcement|Overgrown Yard/Trash|         null|\n",
      "|    Shops (Internal)|Major Park Improv...|         null|\n",
      "|             Signals|Signal Timing Mod...|         null|\n",
      "| Food Establishments|      Food Poisoning|         null|\n",
      "|Storm Water Engin...|Illegal Floodplai...|         null|\n",
      "|    Code Enforcement|Temporary Obstruc...|         null|\n",
      "|    Field Operations|Aggressive Animal...|         null|\n",
      "|     311 Call Center|           Complaint|         null|\n",
      "|Traffic Engineeri...|Flashing Beacon N...|         null|\n",
      "|    Shops (Internal)|         Playgrounds|         null|\n",
      "|Traffic Engineeri...|       Parking Issue|         null|\n",
      "|    Code Enforcement|     Permits, Fences|         null|\n",
      "|    Waste Collection|Organics Info / L...|         null|\n",
      "|             Streets| Rebarb Sticking Out|         null|\n",
      "|    Code Enforcement|Used/Scrap Tire F...|         null|\n",
      "|  Signs and Markings|Speed Hump Repair...|         null|\n",
      "|    Code Enforcement|Zoning Business i...|         null|\n",
      "|     Clean and Green|Indoor Janitorial...|         null|\n",
      "|    Field Operations|Animal Cruelty(Cr...|         null|\n",
      "|    Code Enforcement|    Brush Violations|         null|\n",
      "+--------------------+--------------------+-------------+\n",
      "only showing top 20 rows\n",
      "\n"
     ]
    }
   ],
   "source": [
    "case.groupBy('dept_division', 'service_request_type').agg(F.mean(time_over).alias('avg_days_late')).sort(F.desc('avg_days_late')).show()"
   ]
  },
  {
   "cell_type": "code",
   "execution_count": null,
   "metadata": {},
   "outputs": [],
   "source": []
  }
 ],
 "metadata": {
  "kernelspec": {
   "display_name": "Python 3",
   "language": "python",
   "name": "python3"
  },
  "language_info": {
   "codemirror_mode": {
    "name": "ipython",
    "version": 3
   },
   "file_extension": ".py",
   "mimetype": "text/x-python",
   "name": "python",
   "nbconvert_exporter": "python",
   "pygments_lexer": "ipython3",
   "version": "3.7.3"
  }
 },
 "nbformat": 4,
 "nbformat_minor": 2
}
